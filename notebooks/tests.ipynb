{
  "cells": [
    {
      "cell_type": "code",
      "execution_count": 1,
      "metadata": {},
      "outputs": [],
      "source": [
        "%load_ext rich\n",
        "from rich.syntax import Syntax\n",
        "from pathlib import Path\n",
        "from loguru import logger\n",
        "from rich import print\n",
        "from pathlib import Path\n",
        "from corpus_base import Justice"
      ]
    },
    {
      "cell_type": "code",
      "execution_count": 2,
      "metadata": {},
      "outputs": [],
      "source": [
        "from sqlpyd import Connection\n",
        "c = Connection(DatabasePath=\"x.db\") # type: ignore"
      ]
    },
    {
      "cell_type": "code",
      "execution_count": null,
      "metadata": {},
      "outputs": [],
      "source": [
        "from corpus_base.utils import JUSTICE_LOCAL\n",
        "import yaml\n",
        "l = yaml.safe_load(JUSTICE_LOCAL.read_bytes())\n",
        "l"
      ]
    },
    {
      "cell_type": "code",
      "execution_count": null,
      "metadata": {},
      "outputs": [],
      "source": [
        "from corpus_pax import init_persons, init_person_tables\n",
        "from corpus_base import build_sc_tables, setup_case, init_sc_cases\n",
        "# init_persons(c)\n",
        "# build_sc_tables(c)\n",
        "# init_sc_cases(c, test_only=10)\n",
        "init_persons(c)"
      ]
    }
  ],
  "metadata": {
    "kernelspec": {
      "display_name": "Python 3.10.7 ('.venv': poetry)",
      "language": "python",
      "name": "python3"
    },
    "language_info": {
      "codemirror_mode": {
        "name": "ipython",
        "version": 3
      },
      "file_extension": ".py",
      "mimetype": "text/x-python",
      "name": "python",
      "nbconvert_exporter": "python",
      "pygments_lexer": "ipython3",
      "version": "3.10.7"
    },
    "orig_nbformat": 4,
    "vscode": {
      "interpreter": {
        "hash": "d32afce08d83c163384c34d2d539790e716fa1e76727c0492264888e32c1d554"
      }
    }
  },
  "nbformat": 4,
  "nbformat_minor": 2
}
