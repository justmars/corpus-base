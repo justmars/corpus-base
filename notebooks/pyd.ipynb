{
 "cells": [
  {
   "cell_type": "code",
   "execution_count": null,
   "metadata": {},
   "outputs": [],
   "source": [
    "%load_ext rich\n",
    "from rich.syntax import Syntax\n",
    "from pathlib import Path\n",
    "from corpus_base import setup_base_tbls, setup_case\n",
    "from loguru import logger\n",
    "from rich import print\n",
    "from pathlib import Path\n",
    "from corpus_base import settings, DecisionRow, Justice\n",
    "from corpus_base.settings import conn"
   ]
  },
  {
   "cell_type": "code",
   "execution_count": null,
   "metadata": {},
   "outputs": [],
   "source": [
    "setup_base_tbls()"
   ]
  },
  {
   "cell_type": "code",
   "execution_count": null,
   "metadata": {},
   "outputs": [],
   "source": [
    "# insert justices into the justice table\n",
    "Justice.from_api()\n",
    "Justice.init_justices_tbl()"
   ]
  },
  {
   "cell_type": "code",
   "execution_count": null,
   "metadata": {},
   "outputs": [],
   "source": [
    "\n",
    "p = Path().cwd() / \"tests\" / \"decisions\" / \"sc\" / \"62206\" / \"details.yaml\"\n",
    "setup_case(p)"
   ]
  },
  {
   "cell_type": "code",
   "execution_count": null,
   "metadata": {},
   "outputs": [],
   "source": [
    "Syntax(conn.db.schema, \"sql\")"
   ]
  }
 ],
 "metadata": {
  "kernelspec": {
   "display_name": "Python 3.10.7 ('.venv': poetry)",
   "language": "python",
   "name": "python3"
  },
  "language_info": {
   "codemirror_mode": {
    "name": "ipython",
    "version": 3
   },
   "file_extension": ".py",
   "mimetype": "text/x-python",
   "name": "python",
   "nbconvert_exporter": "python",
   "pygments_lexer": "ipython3",
   "version": "3.10.7"
  },
  "orig_nbformat": 4,
  "vscode": {
   "interpreter": {
    "hash": "d32afce08d83c163384c34d2d539790e716fa1e76727c0492264888e32c1d554"
   }
  }
 },
 "nbformat": 4,
 "nbformat_minor": 2
}
