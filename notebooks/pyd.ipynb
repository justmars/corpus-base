{
 "cells": [
  {
   "cell_type": "code",
   "execution_count": null,
   "metadata": {},
   "outputs": [],
   "source": [
    "%load_ext rich\n",
    "from rich.syntax import Syntax\n",
    "from pathlib import Path\n",
    "from corpus_base import setup_base_tbls, setup_case\n",
    "from loguru import logger\n",
    "from rich import print\n",
    "from pathlib import Path\n",
    "from corpus_base import settings, DecisionRow, Justice\n",
    "from sqlpyd import Connection\n",
    "from corpus_persons.__main__ import init_persons\n",
    "from tests.conftest import *"
   ]
  },
  {
   "cell_type": "code",
   "execution_count": null,
   "metadata": {},
   "outputs": [],
   "source": [
    "db = test_db()"
   ]
  },
  {
   "cell_type": "code",
   "execution_count": null,
   "metadata": {},
   "outputs": [],
   "source": [
    "c = Connection() # type: ignore"
   ]
  },
  {
   "cell_type": "code",
   "execution_count": null,
   "metadata": {},
   "outputs": [],
   "source": [
    "init_persons(c)\n",
    "setup_base_tbls(c)"
   ]
  },
  {
   "cell_type": "code",
   "execution_count": null,
   "metadata": {},
   "outputs": [],
   "source": [
    "# insert justices into the justice table\n",
    "Justice.from_api()\n",
    "Justice.init_justices_tbl(c)"
   ]
  },
  {
   "cell_type": "code",
   "execution_count": null,
   "metadata": {},
   "outputs": [],
   "source": [
    "\n",
    "p = Path().cwd() / \"tests\" / \"decisions\" / \"sc\" / \"62206\" / \"details.yaml\"\n",
    "obj = DecisionRow.from_path(c, p)"
   ]
  },
  {
   "cell_type": "code",
   "execution_count": null,
   "metadata": {},
   "outputs": [],
   "source": [
    "obj.dict(exclude_none=True)"
   ]
  },
  {
   "cell_type": "code",
   "execution_count": null,
   "metadata": {},
   "outputs": [],
   "source": [
    "Syntax(conn.db.schema, \"sql\")"
   ]
  }
 ],
 "metadata": {
  "kernelspec": {
   "display_name": "Python 3.10.7 ('.venv': poetry)",
   "language": "python",
   "name": "python3"
  },
  "language_info": {
   "codemirror_mode": {
    "name": "ipython",
    "version": 3
   },
   "file_extension": ".py",
   "mimetype": "text/x-python",
   "name": "python",
   "nbconvert_exporter": "python",
   "pygments_lexer": "ipython3",
   "version": "3.10.7"
  },
  "orig_nbformat": 4,
  "vscode": {
   "interpreter": {
    "hash": "d32afce08d83c163384c34d2d539790e716fa1e76727c0492264888e32c1d554"
   }
  }
 },
 "nbformat": 4,
 "nbformat_minor": 2
}
