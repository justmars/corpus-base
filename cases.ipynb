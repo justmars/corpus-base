{
 "cells": [
  {
   "cell_type": "code",
   "execution_count": null,
   "metadata": {},
   "outputs": [],
   "source": [
    "%load_ext rich\n",
    "from corpus_cite.resources import db"
   ]
  },
  {
   "cell_type": "code",
   "execution_count": null,
   "metadata": {},
   "outputs": [],
   "source": [
    "from corpus_cite import SRC_FILES, setup, add_cases\n",
    "from pathlib import Path\n",
    "\n",
    "setup(db)\n",
    "add_cases(db, Path().home().glob(SRC_FILES))"
   ]
  },
  {
   "cell_type": "code",
   "execution_count": null,
   "metadata": {},
   "outputs": [],
   "source": [
    "from corpus_cite.ponente import most_popular\n",
    "[i for i in most_popular(db)]"
   ]
  },
  {
   "cell_type": "code",
   "execution_count": null,
   "metadata": {},
   "outputs": [],
   "source": [
    "from corpus_cite import DecisionRow, CitationRow, VoteLine, TitleTagRow\n",
    "\n",
    "\n",
    "#f = next(src)\n",
    "#f.exists()\n",
    "#case = DecisionRow.from_path(f)\n",
    "#case"
   ]
  }
 ],
 "metadata": {
  "kernelspec": {
   "display_name": "Python 3.10.7 ('.venv': poetry)",
   "language": "python",
   "name": "python3"
  },
  "language_info": {
   "codemirror_mode": {
    "name": "ipython",
    "version": 3
   },
   "file_extension": ".py",
   "mimetype": "text/x-python",
   "name": "python",
   "nbconvert_exporter": "python",
   "pygments_lexer": "ipython3",
   "version": "3.10.7"
  },
  "orig_nbformat": 4,
  "vscode": {
   "interpreter": {
    "hash": "e5d1cd9239e03902fa84a19f47f4c76ebe54cc02ec9d52f051e2eabffa979282"
   }
  }
 },
 "nbformat": 4,
 "nbformat_minor": 2
}
