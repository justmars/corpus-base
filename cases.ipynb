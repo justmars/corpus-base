{
 "cells": [
  {
   "cell_type": "code",
   "execution_count": null,
   "metadata": {},
   "outputs": [],
   "source": [
    "%load_ext rich\n",
    "from pathlib import Path\n",
    "from corpus_cite import SRC_FILES, DecisionRow, CitationRow, VoteLine\n",
    "from sqlite_utils import Database\n",
    "db = Database(\"cases.db\", use_counts_table=True)\n",
    "src = Path().home().glob(SRC_FILES)\n",
    "case_tbl = DecisionRow.make_table(db)\n",
    "cite_tbl = CitationRow.make_table(db)\n",
    "line_tbl = VoteLine.make_table(db)"
   ]
  },
  {
   "cell_type": "code",
   "execution_count": null,
   "metadata": {},
   "outputs": [],
   "source": [
    "def add_cases(db, paths):\n",
    "    for i in paths:\n",
    "        try: \n",
    "            obj = DecisionRow.from_path(i)\n",
    "            lines = VoteLine.extract_lines(obj.id, obj.voting) if obj.voting else None\n",
    "            DecisionRow.insert_row(db, obj.dict())\n",
    "            CitationRow.insert_row(db, obj.citation.dict() | {\"decision_id\": obj.id})\n",
    "            if lines:\n",
    "                VoteLine.insert_rows(db, lines)\n",
    "        except Exception as e:\n",
    "            continue "
   ]
  },
  {
   "cell_type": "code",
   "execution_count": null,
   "metadata": {},
   "outputs": [],
   "source": [
    "add_cases(db, src)"
   ]
  }
 ],
 "metadata": {
  "kernelspec": {
   "display_name": "Python 3.10.7 ('.venv': poetry)",
   "language": "python",
   "name": "python3"
  },
  "language_info": {
   "codemirror_mode": {
    "name": "ipython",
    "version": 3
   },
   "file_extension": ".py",
   "mimetype": "text/x-python",
   "name": "python",
   "nbconvert_exporter": "python",
   "pygments_lexer": "ipython3",
   "version": "3.10.7"
  },
  "orig_nbformat": 4,
  "vscode": {
   "interpreter": {
    "hash": "e5d1cd9239e03902fa84a19f47f4c76ebe54cc02ec9d52f051e2eabffa979282"
   }
  }
 },
 "nbformat": 4,
 "nbformat_minor": 2
}
